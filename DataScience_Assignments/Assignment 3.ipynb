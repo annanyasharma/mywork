{
 "cells": [
  {
   "cell_type": "raw",
   "metadata": {},
   "source": [
    "Questions 1:\n",
    "Create a numpy array starting from 2 till 50 with a stepsize of 3."
   ]
  },
  {
   "cell_type": "code",
   "execution_count": 13,
   "metadata": {},
   "outputs": [
    {
     "name": "stdout",
     "output_type": "stream",
     "text": [
      "[ 2  5  8 11 14 17 20 23 26 29 32 35 38 41 44 47]\n"
     ]
    }
   ],
   "source": [
    "arr=np.arange(2,50,3)\n",
    "print(arr)"
   ]
  },
  {
   "cell_type": "raw",
   "metadata": {},
   "source": [
    "Questions 2:\n",
    "Accept two lists of 5 elements each from the user.\n",
    "Convert them to numpy arrays. Concatenate these arrays and print it. Also sort these arrays and print it."
   ]
  },
  {
   "cell_type": "code",
   "execution_count": 2,
   "metadata": {},
   "outputs": [
    {
     "name": "stdout",
     "output_type": "stream",
     "text": [
      "65\n",
      "78\n",
      "44\n",
      "78\n",
      "65\n",
      "['65', '78', '44', '78', '65']\n",
      "45\n",
      "22\n",
      "67\n",
      "87\n",
      "90\n",
      "['45', '22', '67', '87', '90']\n",
      "Numpy Arrays\n",
      "['65' '78' '44' '78' '65']\n",
      "['45' '22' '67' '87' '90']\n",
      "Concatenating arrays\n",
      "['65' '78' '44' '78' '65' '45' '22' '67' '87' '90']\n",
      "sorted arrays\n",
      "['44' '65' '65' '78' '78']\n",
      "['22' '45' '67' '87' '90']\n"
     ]
    }
   ],
   "source": [
    "import numpy as np\n",
    "\n",
    "# Making two lists of 5 elements each from the user.\n",
    "li1 = []\n",
    "li2 = []\n",
    "for i in range(5):\n",
    "    a = input()\n",
    "    b = li1.append(a)\n",
    "print(li1)\n",
    "for i in range(5):\n",
    "    a = input()\n",
    "    b = li2.append(a)\n",
    "print(li2)\n",
    "\n",
    "# Converting list into numpy arrays\n",
    "print('Numpy Arrays')\n",
    "nparr1 = np.array(li1)\n",
    "print(nparr1)\n",
    "nparr2 = np.array(li2)\n",
    "print(nparr2)\n",
    "\n",
    "# Concatenating arrays\n",
    "print('Concatenating arrays')\n",
    "con = np.concatenate((nparr1,nparr2))  \n",
    "print(con)\n",
    "\n",
    "# sorting arrays\n",
    "print('sorted arrays')\n",
    "nparr1.sort()\n",
    "print(nparr1)\n",
    "nparr2.sort()\n",
    "print(nparr2)"
   ]
  },
  {
   "cell_type": "raw",
   "metadata": {},
   "source": [
    "Questions 3:\n",
    "Write a code snippet to find the dimensions of a ndarray and its size."
   ]
  },
  {
   "cell_type": "code",
   "execution_count": 23,
   "metadata": {},
   "outputs": [
    {
     "name": "stdout",
     "output_type": "stream",
     "text": [
      "[0 1 2]\n",
      "(3,)\n",
      "[[ 0  1  2  3]\n",
      " [ 4  5  6  7]\n",
      " [ 8  9 10 11]]\n",
      "(3, 4)\n"
     ]
    }
   ],
   "source": [
    "import numpy as np\n",
    "\n",
    "a_1d = np.arange(3)\n",
    "print(a_1d)\n",
    "\n",
    "print(a_1d.shape)\n",
    "\n",
    "a_2d = np.arange(12).reshape((3, 4))\n",
    "print(a_2d)\n",
    "\n",
    "print(a_2d.shape)"
   ]
  },
  {
   "cell_type": "raw",
   "metadata": {},
   "source": [
    "Questions 4:\n",
    "How to convert a 1D array into a 2D array? Demonstrate with the help of a code snippet\n",
    "Hint: np.newaxis, np.expand_dims"
   ]
  },
  {
   "cell_type": "code",
   "execution_count": 17,
   "metadata": {},
   "outputs": [
    {
     "name": "stdout",
     "output_type": "stream",
     "text": [
      "row vector: [[0 1 2 3]]\n",
      "(1, 4)\n",
      "column vector:\n",
      " [[ 0  1  2  3]\n",
      " [ 4  5  6  7]\n",
      " [ 8  9 10 11]]\n",
      "(3, 1, 4)\n",
      "column vector:\n",
      " [[0]\n",
      " [1]\n",
      " [2]\n",
      " [3]]\n",
      "(4, 1)\n"
     ]
    }
   ],
   "source": [
    "x1 = np.arange(4)\n",
    "print(\"row vector:\", x1[np.newaxis, :] )\n",
    "print(x1[np.newaxis, :].shape)\n",
    "x2 = np.arange(12).reshape((3, 4))\n",
    "\n",
    "print(\"column vector:\\n\", x2)\n",
    "print(x2[:, np.newaxis].shape)\n",
    "print(\"column vector:\\n\", x1[:, np.newaxis])\n",
    "print(x1[:, np.newaxis].shape)"
   ]
  },
  {
   "cell_type": "code",
   "execution_count": 21,
   "metadata": {},
   "outputs": [
    {
     "name": "stdout",
     "output_type": "stream",
     "text": [
      "Row vector using expand_dims: [[0 1 2 3]]\n",
      "column vector using expand_dims:\n",
      " [[0]\n",
      " [1]\n",
      " [2]\n",
      " [3]]\n",
      "Row vector using expand_dims:\n",
      " [[[ 0  1  2  3]\n",
      "  [ 4  5  6  7]\n",
      "  [ 8  9 10 11]]]\n"
     ]
    }
   ],
   "source": [
    "print(\"Row vector using expand_dims:\",np.expand_dims(x1, axis=0)) \n",
    "print(\"column vector using expand_dims:\\n\", np.expand_dims(x1, axis=1))\n",
    "\n",
    "print(\"Row vector using expand_dims:\\n\",np.expand_dims(x2, axis=0)) "
   ]
  }
 ],
 "metadata": {
  "kernelspec": {
   "display_name": "Python 3",
   "language": "python",
   "name": "python3"
  },
  "language_info": {
   "codemirror_mode": {
    "name": "ipython",
    "version": 3
   },
   "file_extension": ".py",
   "mimetype": "text/x-python",
   "name": "python",
   "nbconvert_exporter": "python",
   "pygments_lexer": "ipython3",
   "version": "3.7.6"
  }
 },
 "nbformat": 4,
 "nbformat_minor": 4
}
